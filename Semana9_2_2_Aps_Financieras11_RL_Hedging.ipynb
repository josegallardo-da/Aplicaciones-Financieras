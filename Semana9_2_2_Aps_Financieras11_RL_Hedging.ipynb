{
  "cells": [
    {
      "cell_type": "markdown",
      "metadata": {
        "id": "view-in-github",
        "colab_type": "text"
      },
      "source": [
        "<a href=\"https://colab.research.google.com/github/josegallardo-da/Aplicaciones-Financieras/blob/main/Semana9_2_2_Aps_Financieras11_RL_Hedging.ipynb\" target=\"_parent\"><img src=\"https://colab.research.google.com/assets/colab-badge.svg\" alt=\"Open In Colab\"/></a>"
      ]
    },
    {
      "cell_type": "markdown",
      "source": [
        "[![Open In Colab](https://colab.research.google.com/assets/colab-badge.svg)](https://colab.research.google.com/github/MaxMitre/Aplicaciones-Financieras/blob/main/Semana9/2_RL_Hedging.ipynb)\n"
      ],
      "metadata": {
        "id": "bsmNyfaiLGXb"
      }
    },
    {
      "cell_type": "markdown",
      "source": [
        "# Reinforcement Learning (Aprendizaje por refuerzo) - Hedging en opciones"
      ],
      "metadata": {
        "id": "LgzsbunkPt3q"
      }
    },
    {
      "cell_type": "markdown",
      "source": [
        "Se realizarán las simulaciones de 3 millones de trayectorias como posibles movimientos de un activo que serán calculados utilizando la fórmula de Black-Scholes (a veces conocida como Black-Scholes-Merton) y con esto se entrenará un agente de aprendizaje por refuerzo."
      ],
      "metadata": {
        "id": "7VMpFWsMDo9K"
      }
    },
    {
      "cell_type": "markdown",
      "source": [
        "# Dependencias"
      ],
      "metadata": {
        "id": "XjYeio_xaF5n"
      }
    },
    {
      "cell_type": "code",
      "execution_count": null,
      "metadata": {
        "id": "-dsbufATU_5E"
      },
      "outputs": [],
      "source": [
        "import numpy as np\n",
        "from scipy.stats import norm\n",
        "import random\n",
        "import matplotlib.pyplot as plt\n",
        "import pandas as pd\n",
        "\n",
        "from tqdm.notebook import tqdm\n",
        "\n",
        "n = norm.pdf\n",
        "N = norm.cdf"
      ]
    },
    {
      "cell_type": "code",
      "source": [
        "from google.colab import drive\n",
        "drive.mount('/content/drive')"
      ],
      "metadata": {
        "id": "32ZsfrDbcEUE",
        "colab": {
          "base_uri": "https://localhost:8080/"
        },
        "outputId": "04fc86aa-a988-4ce8-9a72-f26cf05c4e28"
      },
      "execution_count": null,
      "outputs": [
        {
          "output_type": "stream",
          "name": "stdout",
          "text": [
            "Mounted at /content/drive\n"
          ]
        }
      ]
    },
    {
      "cell_type": "code",
      "source": [
        "# Ejemplo de la función auxiliar\n",
        "total = 0\n",
        "for i in tqdm(range(10000000)):\n",
        "  total += 1"
      ],
      "metadata": {
        "id": "dU3d65hNJw5s",
        "colab": {
          "base_uri": "https://localhost:8080/",
          "height": 49,
          "referenced_widgets": [
            "9b698157fbf44a8fae01e9a127ecaba2",
            "cb0d10150aa04f9d951b42124cc43556",
            "cead31450ae640f6820ee86edc2d9859",
            "6983f29de17d44ca80869c52182c5efe",
            "42598bc7dcd94c93b9b3aa4835164f24",
            "409e7cf292044214a476101c6eac56b4",
            "b1813eab80ca458f8b6226b4a6c568fc",
            "b0966d56f99f434ea4d13cb391f048ef",
            "b2e7ab2d24bf4f0a8c4707df039a8220",
            "22682b73a5154400b4b46481147efabd",
            "a09ae6abdb694c16a7899f55fdf1b800"
          ]
        },
        "outputId": "1c734aab-148c-44c4-afab-2515d430591f"
      },
      "execution_count": null,
      "outputs": [
        {
          "output_type": "display_data",
          "data": {
            "text/plain": [
              "  0%|          | 0/10000000 [00:00<?, ?it/s]"
            ],
            "application/vnd.jupyter.widget-view+json": {
              "version_major": 2,
              "version_minor": 0,
              "model_id": "9b698157fbf44a8fae01e9a127ecaba2"
            }
          },
          "metadata": {}
        }
      ]
    },
    {
      "cell_type": "markdown",
      "source": [
        "# Funciones Auxiliares"
      ],
      "metadata": {
        "id": "kk74pvlkaIyV"
      }
    },
    {
      "cell_type": "code",
      "execution_count": null,
      "metadata": {
        "id": "CNgbEvC0U_5H"
      },
      "outputs": [],
      "source": [
        "# Para la simulación de las trayectorias de la acción utilizando Black-Scholes\n",
        "def brownian_sim(num_path, num_period, mu, std, init_p, dt):\n",
        "    z = np.random.normal(size=(num_path, num_period))\n",
        "\n",
        "    a_price = np.zeros((num_path, num_period))\n",
        "    a_price[:, 0] = init_p\n",
        "\n",
        "    for t in range(num_period - 1):\n",
        "        a_price[:, t+1] = a_price[:, t] * np.exp(\n",
        "            (mu - (std ** 2) / 2) * dt + std * np.sqrt(dt) * z[:, t]\n",
        "        )\n",
        "    return a_price\n",
        "\n",
        "# Función para la valuación de Opciones (Call) y cálculo de Delta usando Black-Scholes\n",
        "# T es el tiempo de madurez anualizado\n",
        "def bs_parameter(v, T, S, K, r, q):\n",
        "    np.seterr(divide='ignore', invalid='ignore')\n",
        "    d1 = (np.log(S / K) + (r - q + v * v / 2) * T) / (v * np.sqrt(T))\n",
        "    d2 = d1 - v * np.sqrt(T)\n",
        "    bs_price = S * np.exp(-q * T) * norm.cdf(d1) - K * np.exp(-r * T) * norm.cdf(d2)\n",
        "    bs_delta = np.exp(-q * T) * norm.cdf(d1)\n",
        "    return bs_price, bs_delta\n"
      ]
    },
    {
      "cell_type": "code",
      "execution_count": null,
      "metadata": {
        "id": "P3cejy7_U_5I"
      },
      "outputs": [],
      "source": [
        "# Define el numero de trayectorias generadas para entrenamiento y prueba\n",
        "TRAINING_SAMPLE = 3000000 # 3,000K\n",
        "TESTING_SAMPLE = 100000 # 100K\n",
        "\n",
        "# Características del activo subyacente\n",
        "# Retorno anual de la acción\n",
        "MU = 0\n",
        "# Volatilidad anual\n",
        "VOL = 0.2\n",
        "# Valor inicial del activo\n",
        "S = 100\n",
        "# Retorno anual ofrecido por un activo con cero riesgo (Risk Free Rate)\n",
        "R = 0.05\n",
        "# Dividendos anuales\n",
        "DIVIDEND = 0\n",
        "# Días al año para compra-venta (trading)\n",
        "T = 250\n",
        "\n",
        "# Características de la Opción Call\n",
        "# Precio acordado en la Opción (Strike)\n",
        "K = 100\n",
        "# Tiempo de madurez de la opción\n",
        "M = 10\n",
        "\n",
        "# Número de posiciones posibles[de 0 a 10] (estado)\n",
        "N_POSITION = 11\n",
        "# Número de acciones posibles [de -5 a 5]\n",
        "N_ACTION = 11\n",
        "\n",
        "# Costo por 'Trading', medido porcentualmente\n",
        "TRADING_COST = 0.01\n",
        "\n",
        "# Definición de variables para aprendizaje por refuerzo\n",
        "# Constante para la función de recompensa\n",
        "constant = 1\n",
        "# epsilon mínimo\n",
        "MIN_e = 0.05\n",
        "# epsilon inicial\n",
        "e = 1\n",
        "# Decaimiento temporal\n",
        "DECAY = 0.999999\n",
        "\n",
        "# Parámetros para actualizar Q\n",
        "ALPHA = 0.5\n",
        "\n",
        "# Escoger el número de estados para el precio de la acción. Los precios se redondean al entero mas cercano.\n",
        "# Precios mayores o iguales a 107 son tomados como el mismo estado\n",
        "# Precios menores o iguales a 93 son tomados como el mismo estado\n",
        "STOCK_PRICE_STATE = 15"
      ]
    },
    {
      "cell_type": "code",
      "execution_count": null,
      "metadata": {
        "id": "6NDde-FmU_5J"
      },
      "outputs": [],
      "source": [
        "# Avance de tiempo por día\n",
        "dt = 1/T\n",
        "\n",
        "# Serie para el tiempo de madurez de la opción\n",
        "ttm = np.arange(M,-1, -1)"
      ]
    },
    {
      "cell_type": "code",
      "execution_count": null,
      "metadata": {
        "id": "4qy44wfqU_5K"
      },
      "outputs": [],
      "source": [
        "# Inicializa Q con valores cero para los pares estado-decisión (acción)\n",
        "q = np.zeros((M+1,STOCK_PRICE_STATE,N_POSITION,N_ACTION))"
      ]
    },
    {
      "cell_type": "code",
      "source": [
        "# Las dimensions representan: Madurez, Precio de activo, Estado de Hedge, Acción a tomar\n",
        "q.shape"
      ],
      "metadata": {
        "id": "rNG9L0NWbpoD",
        "colab": {
          "base_uri": "https://localhost:8080/"
        },
        "outputId": "01eae3e1-0243-4998-f367-f463bd0e3556"
      },
      "execution_count": null,
      "outputs": [
        {
          "output_type": "execute_result",
          "data": {
            "text/plain": [
              "(11, 15, 11, 11)"
            ]
          },
          "metadata": {},
          "execution_count": 9
        }
      ]
    },
    {
      "cell_type": "code",
      "source": [
        "11*15*11"
      ],
      "metadata": {
        "id": "9suxB9STbq2Q",
        "colab": {
          "base_uri": "https://localhost:8080/"
        },
        "outputId": "f192ec3a-6b25-4e34-8ba9-7afa422f40c3"
      },
      "execution_count": null,
      "outputs": [
        {
          "output_type": "execute_result",
          "data": {
            "text/plain": [
              "1815"
            ]
          },
          "metadata": {},
          "execution_count": 13
        }
      ]
    },
    {
      "cell_type": "code",
      "source": [
        "# Acciones a tomar cuando\n",
        "# El tiempo de madurez llegó a 10, el precio del activo es 100 (la posición del 7) y posee 8 opciones\n",
        "q[10,7,8]"
      ],
      "metadata": {
        "id": "P7vWkC1sRarl",
        "colab": {
          "base_uri": "https://localhost:8080/"
        },
        "outputId": "086cd82b-e7cb-4c7c-d788-aa36fc13ee44"
      },
      "execution_count": null,
      "outputs": [
        {
          "output_type": "execute_result",
          "data": {
            "text/plain": [
              "array([0., 0., 0., 0., 0., 0., 0., 0., 0., 0., 0.])"
            ]
          },
          "metadata": {},
          "execution_count": 12
        }
      ]
    },
    {
      "cell_type": "markdown",
      "source": [
        "# Fase de entrenamiento"
      ],
      "metadata": {
        "id": "fUFvGkYAc18R"
      }
    },
    {
      "cell_type": "code",
      "source": [
        "# Solo para mejorar visualmente\n",
        "np.set_printoptions(suppress=True)"
      ],
      "metadata": {
        "id": "ea8N4D8WeIcR"
      },
      "execution_count": null,
      "outputs": []
    },
    {
      "cell_type": "code",
      "source": [
        "# Simulación de trayectorias y cálculo de parámetros BS para fase de entrenamiento\n",
        "price_table = brownian_sim(TRAINING_SAMPLE,M+1, MU, VOL, S, dt)\n",
        "call_price_table, delta_table = bs_parameter(VOL, ttm / T, price_table, K,R, DIVIDEND)\n",
        "print(\"Simulación de trayectorias de activos y calculo de parámetros BS completados\")"
      ],
      "metadata": {
        "id": "wFI4RVQRdFae",
        "colab": {
          "base_uri": "https://localhost:8080/"
        },
        "outputId": "14b7e776-041d-4401-d693-9abfaa579c69"
      },
      "execution_count": null,
      "outputs": [
        {
          "output_type": "stream",
          "name": "stdout",
          "text": [
            "Simulación de trayectorias de activos y calculo de parámetros BS completados\n"
          ]
        }
      ]
    },
    {
      "cell_type": "code",
      "source": [
        "price_table.shape"
      ],
      "metadata": {
        "id": "KeqsZhbBmdJe",
        "colab": {
          "base_uri": "https://localhost:8080/"
        },
        "outputId": "8c2f26d8-3792-45d2-f317-275a76ff14b3"
      },
      "execution_count": null,
      "outputs": [
        {
          "output_type": "execute_result",
          "data": {
            "text/plain": [
              "(3000000, 11)"
            ]
          },
          "metadata": {},
          "execution_count": 16
        }
      ]
    },
    {
      "cell_type": "code",
      "source": [
        "# Varios caminos (puede ser uno solo cambiando el rango)\n",
        "for i in range(10):\n",
        "  plt.plot(price_table[i,:])"
      ],
      "metadata": {
        "id": "vMxTeBc8mnHH",
        "colab": {
          "base_uri": "https://localhost:8080/",
          "height": 430
        },
        "outputId": "22d24d8c-ed0a-4245-d901-3b3ae0202c3d"
      },
      "execution_count": null,
      "outputs": [
        {
          "output_type": "display_data",
          "data": {
            "text/plain": [
              "<Figure size 640x480 with 1 Axes>"
            ],
            "image/png": "[encoded data removed]"
          },
          "metadata": {}
        }
      ]
    },
    {
      "cell_type": "code",
      "source": [
        "# Podremos ver el elemento j-ésimo de la tabla de precios, precio del call, etc\n",
        "j=4"
      ],
      "metadata": {
        "id": "Zy8UvzEQd5s5"
      },
      "execution_count": null,
      "outputs": []
    },
    {
      "cell_type": "code",
      "source": [
        "price_table[j]"
      ],
      "metadata": {
        "id": "v8NKWupOdvSj",
        "colab": {
          "base_uri": "https://localhost:8080/"
        },
        "outputId": "c308c086-c99f-48f5-8dbe-b38dcecc693a"
      },
      "execution_count": null,
      "outputs": [
        {
          "output_type": "execute_result",
          "data": {
            "text/plain": [
              "array([100.        ,  98.88452538,  98.31688511,  98.56015   ,\n",
              "        99.6400633 ,  99.04703432, 101.12031865, 100.50942629,\n",
              "       100.07989943, 101.25854984, 100.38693689])"
            ]
          },
          "metadata": {},
          "execution_count": 20
        }
      ]
    },
    {
      "cell_type": "code",
      "source": [
        "call_price_table[j]"
      ],
      "metadata": {
        "id": "VvAlsCskdMeL",
        "colab": {
          "base_uri": "https://localhost:8080/"
        },
        "outputId": "9e3f6178-bb63-49de-815c-796c6d68e81b"
      },
      "execution_count": null,
      "outputs": [
        {
          "output_type": "execute_result",
          "data": {
            "text/plain": [
              "array([1.69596065, 1.0822384 , 0.7810257 , 0.774768  , 1.11677315,\n",
              "       0.74708418, 1.72556643, 1.18997707, 0.77533007, 1.38366341,\n",
              "       0.38693689])"
            ]
          },
          "metadata": {},
          "execution_count": 21
        }
      ]
    },
    {
      "cell_type": "code",
      "source": [
        "delta_table[j]"
      ],
      "metadata": {
        "id": "t3mU3tspdzGA",
        "colab": {
          "base_uri": "https://localhost:8080/"
        },
        "outputId": "18aab4cf-fc34-4a4e-f8d7-f7a28700914d"
      },
      "execution_count": null,
      "outputs": [
        {
          "output_type": "execute_result",
          "data": {
            "text/plain": [
              "array([0.52790317, 0.40935778, 0.34022869, 0.35390508, 0.47521895,\n",
              "       0.38627445, 0.68603926, 0.60652394, 0.53027146, 0.84396735,\n",
              "       1.        ])"
            ]
          },
          "metadata": {},
          "execution_count": 22
        }
      ]
    },
    {
      "cell_type": "code",
      "source": [
        "# Redondeo de los precios de activo y convertirlos a los 15 diferentes estados\n",
        "# [<=93,94,95,96, ... 103,104,105,106, >= 107] - > [0,1,2,3,4,5,....12,13,14,15]\n",
        "price_state_table = np.round(price_table).astype(int)\n",
        "price_state_table = np.where(price_state_table < 93, 93, price_state_table)\n",
        "price_state_table = np.where(price_state_table > 107, 107, price_state_table)\n",
        "price_state_table = price_state_table - 93"
      ],
      "metadata": {
        "id": "cLBU2gg_fM53"
      },
      "execution_count": null,
      "outputs": []
    },
    {
      "cell_type": "code",
      "source": [
        "price_table[4]"
      ],
      "metadata": {
        "id": "77-DiKGngBr3",
        "colab": {
          "base_uri": "https://localhost:8080/"
        },
        "outputId": "45335446-3692-4f52-e24a-e8fbaeafbd98"
      },
      "execution_count": null,
      "outputs": [
        {
          "output_type": "execute_result",
          "data": {
            "text/plain": [
              "array([100.        ,  98.88452538,  98.31688511,  98.56015   ,\n",
              "        99.6400633 ,  99.04703432, 101.12031865, 100.50942629,\n",
              "       100.07989943, 101.25854984, 100.38693689])"
            ]
          },
          "metadata": {},
          "execution_count": 24
        }
      ]
    },
    {
      "cell_type": "code",
      "source": [
        "price_state_table[4]"
      ],
      "metadata": {
        "id": "ZlHKN0bbTSo3",
        "colab": {
          "base_uri": "https://localhost:8080/"
        },
        "outputId": "bbe3d350-a569-4f7f-c1c6-b82ec3329d8c"
      },
      "execution_count": null,
      "outputs": [
        {
          "output_type": "execute_result",
          "data": {
            "text/plain": [
              "array([7, 6, 5, 6, 7, 6, 8, 8, 7, 8, 7])"
            ]
          },
          "metadata": {},
          "execution_count": 25
        }
      ]
    },
    {
      "cell_type": "code",
      "source": [
        "(8,               9,                       3)   ------> (9, 8, 8)\n",
        "Madurez, Precio de activo, Cuantas opciones tenia en mano"
      ],
      "metadata": {
        "id": "q6FpFppjcrzz"
      },
      "execution_count": null,
      "outputs": []
    },
    {
      "cell_type": "code",
      "execution_count": null,
      "metadata": {
        "scrolled": true,
        "id": "J7QO1ZM4U_5K"
      },
      "outputs": [],
      "source": [
        "print(\"Entrenamiento en proceso:\")\n",
        "\n",
        "for i in tqdm(range(len(price_table))):\n",
        "\n",
        "    asset_price = price_table[i]\n",
        "    price_state = price_state_table[i]\n",
        "    bscall = call_price_table[i]\n",
        "    position = 0\n",
        "    position_list = np.empty(0, dtype=int)\n",
        "    reward_list = np.empty(0, dtype=int)\n",
        "    action_list = np.empty(0, dtype=int)\n",
        "    total_reward = np.empty(0, dtype=int)\n",
        "\n",
        "    # El agente ve el estado\n",
        "    # El agente toma una desicion (ésta desición modifica el estado en el que está)\n",
        "    # Se actualiza la Q\n",
        "    # Se calcula la recompensa\n",
        "    # Se repite el ciclo\n",
        "\n",
        "    for t in range(M):\n",
        "        if np.random.rand() <= e:\n",
        "            # Aplicamos EXPLORACIÓN\n",
        "            # Note que el rango de las acciones está entre vender 5 shares y comprar 5 shares\n",
        "            # Por eso aquí se restan 5 a la acción tomada\n",
        "            action = random.randrange(0,N_ACTION) - 5\n",
        "        else:\n",
        "            # EXPLOTACIÓN\n",
        "            # Asumimos que en el tiempo 0 el agente tiene 0 shares\n",
        "            if t == 0:\n",
        "                lookup_position = 0\n",
        "\n",
        "            else:\n",
        "                lookup_position = position_list[t-1]\n",
        "            # Si se activa 'explotación', encuentra el mínimo valor no-cero en Q\n",
        "            # Se usa un 'try' porque el agente puede llegar a un estado no visitado antes y ahi todos los valores de Q son ceros\n",
        "            # Si el agente llega a un estado en que nunca ha estado antes, se toma una acción al azar\n",
        "            try:\n",
        "                action = np.where(q[t][price_state[t]][lookup_position]==np.min(q[t][price_state[t]][lookup_position][np.nonzero(q[t][price_state[t]][lookup_position])]))[0][0] - 5\n",
        "            except:\n",
        "                action = random.randrange(0,N_ACTION) - 5\n",
        "\n",
        "        # Obligando al agente a que solo tenga entre 0 y 10 shares\n",
        "        if position + action >10:\n",
        "            action = 10 - position\n",
        "            new_position = 10\n",
        "        elif position + action <0:\n",
        "            action = -position\n",
        "            new_position = 0\n",
        "        else:\n",
        "            new_position = action + position\n",
        "\n",
        "        # Condicional para calcular el costo por transacción (cuando no es cero) Nota: Cuando se quiere encontrar delta para delta hedging, el costo por transacción es 0\n",
        "        # Si t es un día antes de la fecha de madurez, se cobra un extra por venderlos al final del periodo\n",
        "        if t == M-1:\n",
        "            transaction_cost = (asset_price[t]*abs(new_position - position)*TRADING_COST + new_position*asset_price[t+1]*TRADING_COST)\n",
        "        else:\n",
        "            transaction_cost = (asset_price[t]*abs(new_position - position)*TRADING_COST)\n",
        "\n",
        "        # La Recompensa se calcula como\n",
        "        # PNL es una formulación en la que el hedge se calcula en cada etapa\n",
        "        # expected hedging cost + constant * variance of total pnl from hedging.\n",
        "\n",
        "        # Buscando delta, la recompensa es minimizando la varianza de P&L total del caso de hedging\n",
        "        # La constante se toma 1 para el caso de buscar delta.\n",
        "        reward = transaction_cost + constant * (transaction_cost-(asset_price[t+1] - asset_price[t])*new_position+10*(bscall[t+1] - bscall[t]))**2\n",
        "\n",
        "        position_list= np.append(position_list,new_position)\n",
        "        position = new_position\n",
        "        action_list = np.append(action_list,action)\n",
        "        reward_list = np.append(reward_list,reward)\n",
        "\n",
        "\n",
        "    position_list = np.append(position_list,0)\n",
        "    action_list = np.append(action_list,0)\n",
        "    total_reward  = np.append(total_reward,sum(reward_list))\n",
        "\n",
        "    # Convierte la lista de acciones de -5 a 5 en la de 0 a 10, la tabla empieza con el índice 0\n",
        "    # Es decir: índice 0 en la tabla significa acción = -5 e índice 10 en tabla significa acción = 5\n",
        "    action_list = action_list + 5\n",
        "\n",
        "    # Actualizar Q\n",
        "    for t in range(M):\n",
        "        if t == 0:\n",
        "            lookup_position = 0\n",
        "        else:\n",
        "            lookup_position = position_list[t-1]\n",
        "        qnew = reward_list[t] + q[t+1][price_state[t+1]][position_list[t]][action_list[t+1]]\n",
        "        q[t][price_state[t]][lookup_position][action_list[t]] = q[t][price_state[t]][lookup_position][action_list[t]] + ALPHA * (qnew - q[t][price_state[t]][lookup_position][action_list[t]])\n",
        "\n",
        "    # Decae con el tiempo (epsilon) para que el agente se vuela mas propenso a usar EXPLOTACIÓN\n",
        "    if e > MIN_e:\n",
        "        e = e * DECAY\n",
        "\n",
        "# Save Q at the end after training\n",
        "np.save('/content/drive/MyDrive/Cruso-ApsFinancieras/semana10/Q_RL_Hedging',q)"
      ]
    },
    {
      "cell_type": "markdown",
      "source": [
        "Estamos en el estado $S_t$, el agente ve esto y toma una acción $a_t$ y esto nos lleva a un nuevo estado $S_{t+1}$"
      ],
      "metadata": {
        "id": "5KRa5fnme1dQ"
      }
    },
    {
      "cell_type": "markdown",
      "source": [
        "# Fase de pruebas\n",
        "\n",
        "Aquí el agente ya no está interesado en aprender, solo en llevar a cabo la mejor decisión posible\n"
      ],
      "metadata": {
        "id": "VIf4fwG9c4rg"
      }
    },
    {
      "cell_type": "code",
      "source": [
        "# Cargar Q de entrenamiento\n",
        "q = np.load('/content/drive/MyDrive/Cruso-ApsFinancieras/semana10/Q_RL_Hedging.npy')"
      ],
      "metadata": {
        "id": "MHqdGC4OjH96"
      },
      "execution_count": null,
      "outputs": []
    },
    {
      "cell_type": "code",
      "source": [
        "q.shape"
      ],
      "metadata": {
        "id": "W9cPAk5upvl-",
        "colab": {
          "base_uri": "https://localhost:8080/"
        },
        "outputId": "120aa938-0676-4bfe-8def-e1fff7d54249"
      },
      "execution_count": null,
      "outputs": [
        {
          "output_type": "execute_result",
          "data": {
            "text/plain": [
              "(11, 15, 11, 11)"
            ]
          },
          "metadata": {},
          "execution_count": 27
        }
      ]
    },
    {
      "cell_type": "code",
      "source": [
        "[0,  1, 2, 3, 4, 5, 6,  7,  8,  9, 10, 11, 12, 13,  14,  15]\n",
        "\n",
        "[93,94,95,96,97,98,99,100,101,102,103,104,105,106, 107, 108]"
      ],
      "metadata": {
        "id": "I2CvabgyFfrk"
      },
      "execution_count": null,
      "outputs": []
    },
    {
      "cell_type": "code",
      "source": [
        "#  Recordando: q = np.zeros((M+1,STOCK_PRICE_STATE,N_POSITION,N_ACTION))\n",
        "q[     6,    7,        10]"
      ],
      "metadata": {
        "id": "Zqg3yYm4WJsq",
        "colab": {
          "base_uri": "https://localhost:8080/"
        },
        "outputId": "d4010aef-aa17-4c86-b73c-039216324954"
      },
      "execution_count": null,
      "outputs": [
        {
          "output_type": "execute_result",
          "data": {
            "text/plain": [
              "array([120.94599398, 332.87291616, 249.96042101, 243.78951917,\n",
              "       262.93968968, 312.70318604,   0.        ,   0.        ,\n",
              "         0.        ,   0.        ,   0.        ])"
            ]
          },
          "metadata": {},
          "execution_count": 28
        }
      ]
    },
    {
      "cell_type": "code",
      "source": [
        "# Simulación de trayectorias y cálculo de parámetros BS para fase de entrenamiento de pruebas\n",
        "price_table = brownian_sim(TESTING_SAMPLE,M+1, MU, VOL, S, dt)\n",
        "call_price_table, delta_table = bs_parameter(VOL, ttm / T, price_table, K,R, DIVIDEND)"
      ],
      "metadata": {
        "id": "DmTY-sGQjK_T"
      },
      "execution_count": null,
      "outputs": []
    },
    {
      "cell_type": "code",
      "source": [
        "delta_table"
      ],
      "metadata": {
        "id": "A-2qoPGYKzFO",
        "colab": {
          "base_uri": "https://localhost:8080/"
        },
        "outputId": "90b7be43-bbf6-4374-c2eb-2e3561741656"
      },
      "execution_count": null,
      "outputs": [
        {
          "output_type": "execute_result",
          "data": {
            "text/plain": [
              "array([[0.52790317, 0.67143837, 0.6521739 , ..., 0.11369903, 0.04592427,\n",
              "        0.        ],\n",
              "       [0.52790317, 0.59886882, 0.77684494, ..., 0.99999349, 1.        ,\n",
              "        1.        ],\n",
              "       [0.52790317, 0.36282326, 0.41363047, ..., 0.09694092, 0.00434269,\n",
              "        0.        ],\n",
              "       ...,\n",
              "       [0.52790317, 0.61796002, 0.58497494, ..., 0.57470189, 0.93594481,\n",
              "        1.        ],\n",
              "       [0.52790317, 0.43841471, 0.37068184, ..., 0.56061112, 0.33844047,\n",
              "        0.        ],\n",
              "       [0.52790317, 0.40326827, 0.36885918, ..., 0.00815819, 0.01236522,\n",
              "        0.        ]])"
            ]
          },
          "metadata": {},
          "execution_count": 30
        }
      ]
    },
    {
      "cell_type": "code",
      "source": [
        "# Redondear delta al primer decimal mas cercano\n",
        "rounded_delta = np.round(delta_table*100/10,0).astype(int)/10\n",
        "print(\"Simulación de trayectorias de activos y calculo de parámetros BS completados\")\n",
        "\n",
        "# Redondeo de los precios de activo y convertirlos a los 15 diferentes estados\n",
        "# [<=93,94,95,96, ... 103,104,105,106, >= 107] - > [0,1,2,3,4,5,....12,13,14,15]\n",
        "price_state_table = np.round(price_table).astype(int)\n",
        "price_state_table = np.where(price_state_table < 93, 93, price_state_table)\n",
        "price_state_table = np.where(price_state_table > 107, 107, price_state_table)\n",
        "price_state_table = price_state_table - 93"
      ],
      "metadata": {
        "id": "IXQtISYpjP3W",
        "colab": {
          "base_uri": "https://localhost:8080/"
        },
        "outputId": "a3b9df0c-db89-4ff0-e319-bc939b5de560"
      },
      "execution_count": null,
      "outputs": [
        {
          "output_type": "stream",
          "name": "stdout",
          "text": [
            "Simulación de trayectorias de activos y calculo de parámetros BS completados\n"
          ]
        }
      ]
    },
    {
      "cell_type": "code",
      "source": [
        "rounded_delta"
      ],
      "metadata": {
        "id": "mETLiRN0yYBR",
        "colab": {
          "base_uri": "https://localhost:8080/"
        },
        "outputId": "df048747-0e49-4777-cca4-44d0e8afb4c8"
      },
      "execution_count": null,
      "outputs": [
        {
          "output_type": "execute_result",
          "data": {
            "text/plain": [
              "array([[0.5, 0.7, 0.7, ..., 0.1, 0. , 0. ],\n",
              "       [0.5, 0.6, 0.8, ..., 1. , 1. , 1. ],\n",
              "       [0.5, 0.4, 0.4, ..., 0.1, 0. , 0. ],\n",
              "       ...,\n",
              "       [0.5, 0.6, 0.6, ..., 0.6, 0.9, 1. ],\n",
              "       [0.5, 0.4, 0.4, ..., 0.6, 0.3, 0. ],\n",
              "       [0.5, 0.4, 0.4, ..., 0. , 0. , 0. ]])"
            ]
          },
          "metadata": {},
          "execution_count": 32
        }
      ]
    },
    {
      "cell_type": "code",
      "source": [
        "delta_table"
      ],
      "metadata": {
        "id": "TycH3edByb1L",
        "colab": {
          "base_uri": "https://localhost:8080/"
        },
        "outputId": "a97f0ba9-6922-44c5-c1c5-688591567248"
      },
      "execution_count": null,
      "outputs": [
        {
          "output_type": "execute_result",
          "data": {
            "text/plain": [
              "array([[0.52790317, 0.67143837, 0.6521739 , ..., 0.11369903, 0.04592427,\n",
              "        0.        ],\n",
              "       [0.52790317, 0.59886882, 0.77684494, ..., 0.99999349, 1.        ,\n",
              "        1.        ],\n",
              "       [0.52790317, 0.36282326, 0.41363047, ..., 0.09694092, 0.00434269,\n",
              "        0.        ],\n",
              "       ...,\n",
              "       [0.52790317, 0.61796002, 0.58497494, ..., 0.57470189, 0.93594481,\n",
              "        1.        ],\n",
              "       [0.52790317, 0.43841471, 0.37068184, ..., 0.56061112, 0.33844047,\n",
              "        0.        ],\n",
              "       [0.52790317, 0.40326827, 0.36885918, ..., 0.00815819, 0.01236522,\n",
              "        0.        ]])"
            ]
          },
          "metadata": {},
          "execution_count": 33
        }
      ]
    },
    {
      "cell_type": "code",
      "execution_count": null,
      "metadata": {
        "id": "vhgPLlF8U_5M",
        "colab": {
          "base_uri": "https://localhost:8080/",
          "height": 292,
          "referenced_widgets": [
            "a48be90837a042a5b018eb2c2c76fd4f",
            "ee674376e0a04231b33930f13f0d8716",
            "1d9bd741191e42988f0895c4adde55ad",
            "a392e543d7e645da877413b917e87c34",
            "990d24c1961842abbae578ab4b3975ea",
            "f9c616f8ea2c454f843172e99783e3ee",
            "bd95037b0ceb42cbbb855e35097e4350",
            "0abd2b0a36ac485dbbb219a80b03bdfe",
            "2d57e3ca6fbe4e8f963ccc79385efca0",
            "1355bb60bb904deab775d8ea62c75810",
            "1cefdedeb1f24767b9edd03c259d5d5b"
          ]
        },
        "outputId": "0b0d8a49-a98a-4c9a-96a6-097fa03cfe0a"
      },
      "outputs": [
        {
          "output_type": "stream",
          "name": "stdout",
          "text": [
            "Test is in progress:\n"
          ]
        },
        {
          "output_type": "display_data",
          "data": {
            "text/plain": [
              "  0%|          | 0/100000 [00:00<?, ?it/s]"
            ],
            "application/vnd.jupyter.widget-view+json": {
              "version_major": 2,
              "version_minor": 0,
              "model_id": "a48be90837a042a5b018eb2c2c76fd4f"
            }
          },
          "metadata": {}
        },
        {
          "output_type": "stream",
          "name": "stdout",
          "text": [
            "\n",
            " Estadísticas de Reinforcement Learning Hedging:\n",
            " RL E(C): 21.615387342918726\n",
            " RL var(C): 85.22637688804062\n",
            " RL std(C): 9.231813304440283\n",
            "\n",
            " Estadísticas de Delta Hedging:\n",
            " Delta E(C): 0.9331639752472356\n",
            " Delta var(C): 478.66210068705635\n",
            " Delta std(C): 21.878347759532858\n",
            "\n",
            " Diferencia en la posición:\n",
            " Diferencia absoluta promedio entre la position de DH y RLH: 4.7286927\n"
          ]
        }
      ],
      "source": [
        "total_rl_reward = np.empty(0, dtype=int)\n",
        "total_dh_reward = np.empty(0, dtype=int)\n",
        "all_shares_pnl = np.empty(shape=(TESTING_SAMPLE, len(ttm)-1))\n",
        "all_call_option_pnl = np.empty(shape=(TESTING_SAMPLE, len(ttm)-1))\n",
        "abs_deviation = list()\n",
        "\n",
        "print(\"Test is in progress:\")\n",
        "for i in tqdm(range(len(price_table))):\n",
        "\n",
        "    rl_position = 0\n",
        "    dh_position = 0\n",
        "    asset_price = price_table[i]\n",
        "    price_state = price_state_table[i]\n",
        "    bscall = call_price_table[i]\n",
        "    bsdelta = rounded_delta[i]\n",
        "    position_list = np.empty(0, dtype=int)\n",
        "    rl_reward_list = np.empty(0, dtype=int)\n",
        "    dh_reward_list = np.empty(0, dtype=int)\n",
        "    action_list = np.empty(0, dtype=int)\n",
        "    shares_pnl = np.empty(0, dtype=int)\n",
        "    call_option_pnl = np.empty(0, dtype=int)\n",
        "\n",
        "    for t in range(M):\n",
        "\n",
        "        # Posición a mantener si el agente aplicará Delta Hedging\n",
        "        new_dh_position = bsdelta[t]\n",
        "\n",
        "        # Asumimos que en el tiempo 0 el agente tiene 0 shares\n",
        "        if t == 0:\n",
        "            lookup_position = 0\n",
        "        else:\n",
        "            lookup_position = position_list[t-1]\n",
        "\n",
        "        # Escoge acción encontrando el mínimo valor no cero en la tabla Q\n",
        "        # Usar el try porque puede que el agente haya llegado a una posición no antes vista.\n",
        "        # Si eso sucede, el agente no intercambia shares de ninguna manera\n",
        "        try:\n",
        "            rl_action = np.where(q[t][price_state[t]][lookup_position]==np.min(q[t][price_state[t]][lookup_position][np.nonzero(q[t][price_state[t]][lookup_position])]))[0][0] - 5\n",
        "        except:\n",
        "            rl_action = 0\n",
        "\n",
        "        # Obligamos al agente a mantener shares entre 0 y 10\n",
        "        if rl_position + rl_action >10:\n",
        "            rl_action = 10 - rl_position\n",
        "            new_rl_position = 10\n",
        "        elif rl_position + rl_action <0:\n",
        "            rl_action = -rl_position\n",
        "            new_rl_position = 0\n",
        "        else:\n",
        "            new_rl_position = rl_action + rl_position\n",
        "\n",
        "        # Calculamos el P&L periodo a periodo para ambos casos: Delta Hedge y Renforcement Learning Hedging\n",
        "        if t == M-1:\n",
        "            rl_transaction_cost = (asset_price[t]*abs(new_rl_position - rl_position)*TRADING_COST + new_rl_position*asset_price[t+1]*TRADING_COST)\n",
        "            dh_transaction_cost = (asset_price[t]*abs(new_dh_position - dh_position)*TRADING_COST + new_dh_position*asset_price[t+1]*TRADING_COST)\n",
        "        else:\n",
        "            rl_transaction_cost = (asset_price[t]*abs(new_rl_position - rl_position)*TRADING_COST)\n",
        "            dh_transaction_cost = (asset_price[t]*abs(new_dh_position - dh_position)*TRADING_COST)\n",
        "\n",
        "\n",
        "        call_option_pnl = np.append(call_option_pnl,10*(bscall[t+1] - bscall[t]))\n",
        "        shares_pnl = np.append(shares_pnl, (asset_price[t+1] - asset_price[t])*new_rl_position)\n",
        "        rl_reward = rl_transaction_cost - (asset_price[t+1] - asset_price[t])*new_rl_position+10*(bscall[t+1] - bscall[t])\n",
        "        dh_reward = dh_transaction_cost - (asset_price[t+1] - asset_price[t])*new_dh_position+10*(bscall[t+1] - bscall[t])\n",
        "\n",
        "\n",
        "        position_list= np.append(position_list,new_rl_position)\n",
        "        action_list = np.append(action_list,rl_action)\n",
        "        rl_position = new_rl_position\n",
        "        dh_position = new_dh_position\n",
        "        rl_reward_list = np.append(rl_reward_list,rl_reward)\n",
        "        dh_reward_list = np.append(dh_reward_list,dh_reward)\n",
        "\n",
        "    abs_deviation = np.append(abs_deviation,sum(abs(bsdelta[:-1]-position_list))/10)\n",
        "    position_list = np.append(position_list,0)\n",
        "    action_list = np.append(action_list,0)\n",
        "    total_rl_reward = np.append(total_rl_reward,sum(rl_reward_list))\n",
        "    total_dh_reward = np.append(total_dh_reward,sum(dh_reward_list))\n",
        "    all_shares_pnl[i,:] = shares_pnl\n",
        "    all_call_option_pnl[i,:]  = call_option_pnl\n",
        "\n",
        "print('\\n Estadísticas de Reinforcement Learning Hedging:')\n",
        "print(' RL E(C):', np.average(total_rl_reward))\n",
        "print(' RL var(C):', np.var(total_rl_reward))\n",
        "print(' RL std(C):', np.std(total_rl_reward))\n",
        "\n",
        "print('\\n Estadísticas de Delta Hedging:')\n",
        "print(' Delta E(C):', np.average(total_dh_reward))\n",
        "print(' Delta var(C):', np.var(total_dh_reward))\n",
        "print(' Delta std(C):', np.std(total_dh_reward))\n",
        "\n",
        "print('\\n Diferencia en la posición:')\n",
        "print(' Diferencia absoluta promedio entre la position de DH y RLH:', np.average(abs_deviation))\n"
      ]
    },
    {
      "cell_type": "code",
      "source": [
        "q[9,7,8]"
      ],
      "metadata": {
        "id": "N5lt9KuUz4iE"
      },
      "execution_count": null,
      "outputs": []
    },
    {
      "cell_type": "code",
      "source": [
        "[-5, -4, -3, -2, -1, 0, 1, 2, 3, 4, 5]\n",
        "\n",
        "\n",
        "[0,1,2,3,4,5,6,7,8,9,10]"
      ],
      "metadata": {
        "id": "BGUhjOSTgHLi"
      },
      "execution_count": null,
      "outputs": []
    },
    {
      "cell_type": "markdown",
      "source": [
        "# Ejercicios"
      ],
      "metadata": {
        "id": "78Js91Eyy4D0"
      }
    },
    {
      "cell_type": "markdown",
      "source": [
        "- ¿Que pasa al volver 0 la variable TRADING_COST?\n",
        "- ¿Modificarían el DECAY de epsilon de alguna manera?\n"
      ],
      "metadata": {
        "id": "VqIEIQjzvKv_"
      }
    },
    {
      "cell_type": "markdown",
      "source": [
        "# Referencias\n",
        "\n",
        "- http://www-2.rotman.utoronto.ca/~hull/downloadablepublications/RL_Deep_Hedging.pdf"
      ],
      "metadata": {
        "id": "rVi7XxglYpO5"
      }
    }
  ],
  "metadata": {
    "kernelspec": {
      "display_name": "Python 3",
      "language": "python",
      "name": "python3"
    },
    "language_info": {
      "codemirror_mode": {
        "name": "ipython",
        "version": 3
      },
      "file_extension": ".py",
      "mimetype": "text/x-python",
      "name": "python",
      "nbconvert_exporter": "python",
      "pygments_lexer": "ipython3",
      "version": "3.7.6"
    },
    "colab": {
      "provenance": [],
      "include_colab_link": true
    },
    "accelerator": "GPU",
    "gpuClass": "standard",
    "widgets": {
      "application/vnd.jupyter.widget-state+json": {
        "9b698157fbf44a8fae01e9a127ecaba2": {
          "model_module": "@jupyter-widgets/controls",
          "model_name": "HBoxModel",
          "model_module_version": "1.5.0",
          "state": {
            "_dom_classes": [],
            "_model_module": "@jupyter-widgets/controls",
            "_model_module_version": "1.5.0",
            "_model_name": "HBoxModel",
            "_view_count": null,
            "_view_module": "@jupyter-widgets/controls",
            "_view_module_version": "1.5.0",
            "_view_name": "HBoxView",
            "box_style": "",
            "children": [
              "IPY_MODEL_cb0d10150aa04f9d951b42124cc43556",
              "IPY_MODEL_cead31450ae640f6820ee86edc2d9859",
              "IPY_MODEL_6983f29de17d44ca80869c52182c5efe"
            ],
            "layout": "IPY_MODEL_42598bc7dcd94c93b9b3aa4835164f24"
          }
        },
        "cb0d10150aa04f9d951b42124cc43556": {
          "model_module": "@jupyter-widgets/controls",
          "model_name": "HTMLModel",
          "model_module_version": "1.5.0",
          "state": {
            "_dom_classes": [],
            "_model_module": "@jupyter-widgets/controls",
            "_model_module_version": "1.5.0",
            "_model_name": "HTMLModel",
            "_view_count": null,
            "_view_module": "@jupyter-widgets/controls",
            "_view_module_version": "1.5.0",
            "_view_name": "HTMLView",
            "description": "",
            "description_tooltip": null,
            "layout": "IPY_MODEL_409e7cf292044214a476101c6eac56b4",
            "placeholder": "​",
            "style": "IPY_MODEL_b1813eab80ca458f8b6226b4a6c568fc",
            "value": "100%"
          }
        },
        "cead31450ae640f6820ee86edc2d9859": {
          "model_module": "@jupyter-widgets/controls",
          "model_name": "FloatProgressModel",
          "model_module_version": "1.5.0",
          "state": {
            "_dom_classes": [],
            "_model_module": "@jupyter-widgets/controls",
            "_model_module_version": "1.5.0",
            "_model_name": "FloatProgressModel",
            "_view_count": null,
            "_view_module": "@jupyter-widgets/controls",
            "_view_module_version": "1.5.0",
            "_view_name": "ProgressView",
            "bar_style": "success",
            "description": "",
            "description_tooltip": null,
            "layout": "IPY_MODEL_b0966d56f99f434ea4d13cb391f048ef",
            "max": 10000000,
            "min": 0,
            "orientation": "horizontal",
            "style": "IPY_MODEL_b2e7ab2d24bf4f0a8c4707df039a8220",
            "value": 10000000
          }
        },
        "6983f29de17d44ca80869c52182c5efe": {
          "model_module": "@jupyter-widgets/controls",
          "model_name": "HTMLModel",
          "model_module_version": "1.5.0",
          "state": {
            "_dom_classes": [],
            "_model_module": "@jupyter-widgets/controls",
            "_model_module_version": "1.5.0",
            "_model_name": "HTMLModel",
            "_view_count": null,
            "_view_module": "@jupyter-widgets/controls",
            "_view_module_version": "1.5.0",
            "_view_name": "HTMLView",
            "description": "",
            "description_tooltip": null,
            "layout": "IPY_MODEL_22682b73a5154400b4b46481147efabd",
            "placeholder": "​",
            "style": "IPY_MODEL_a09ae6abdb694c16a7899f55fdf1b800",
            "value": " 10000000/10000000 [00:03&lt;00:00, 3429939.96it/s]"
          }
        },
        "42598bc7dcd94c93b9b3aa4835164f24": {
          "model_module": "@jupyter-widgets/base",
          "model_name": "LayoutModel",
          "model_module_version": "1.2.0",
          "state": {
            "_model_module": "@jupyter-widgets/base",
            "_model_module_version": "1.2.0",
            "_model_name": "LayoutModel",
            "_view_count": null,
            "_view_module": "@jupyter-widgets/base",
            "_view_module_version": "1.2.0",
            "_view_name": "LayoutView",
            "align_content": null,
            "align_items": null,
            "align_self": null,
            "border": null,
            "bottom": null,
            "display": null,
            "flex": null,
            "flex_flow": null,
            "grid_area": null,
            "grid_auto_columns": null,
            "grid_auto_flow": null,
            "grid_auto_rows": null,
            "grid_column": null,
            "grid_gap": null,
            "grid_row": null,
            "grid_template_areas": null,
            "grid_template_columns": null,
            "grid_template_rows": null,
            "height": null,
            "justify_content": null,
            "justify_items": null,
            "left": null,
            "margin": null,
            "max_height": null,
            "max_width": null,
            "min_height": null,
            "min_width": null,
            "object_fit": null,
            "object_position": null,
            "order": null,
            "overflow": null,
            "overflow_x": null,
            "overflow_y": null,
            "padding": null,
            "right": null,
            "top": null,
            "visibility": null,
            "width": null
          }
        },
        "409e7cf292044214a476101c6eac56b4": {
          "model_module": "@jupyter-widgets/base",
          "model_name": "LayoutModel",
          "model_module_version": "1.2.0",
          "state": {
            "_model_module": "@jupyter-widgets/base",
            "_model_module_version": "1.2.0",
            "_model_name": "LayoutModel",
            "_view_count": null,
            "_view_module": "@jupyter-widgets/base",
            "_view_module_version": "1.2.0",
            "_view_name": "LayoutView",
            "align_content": null,
            "align_items": null,
            "align_self": null,
            "border": null,
            "bottom": null,
            "display": null,
            "flex": null,
            "flex_flow": null,
            "grid_area": null,
            "grid_auto_columns": null,
            "grid_auto_flow": null,
            "grid_auto_rows": null,
            "grid_column": null,
            "grid_gap": null,
            "grid_row": null,
            "grid_template_areas": null,
            "grid_template_columns": null,
            "grid_template_rows": null,
            "height": null,
            "justify_content": null,
            "justify_items": null,
            "left": null,
            "margin": null,
            "max_height": null,
            "max_width": null,
            "min_height": null,
            "min_width": null,
            "object_fit": null,
            "object_position": null,
            "order": null,
            "overflow": null,
            "overflow_x": null,
            "overflow_y": null,
            "padding": null,
            "right": null,
            "top": null,
            "visibility": null,
            "width": null
          }
        },
        "b1813eab80ca458f8b6226b4a6c568fc": {
          "model_module": "@jupyter-widgets/controls",
          "model_name": "DescriptionStyleModel",
          "model_module_version": "1.5.0",
          "state": {
            "_model_module": "@jupyter-widgets/controls",
            "_model_module_version": "1.5.0",
            "_model_name": "DescriptionStyleModel",
            "_view_count": null,
            "_view_module": "@jupyter-widgets/base",
            "_view_module_version": "1.2.0",
            "_view_name": "StyleView",
            "description_width": ""
          }
        },
        "b0966d56f99f434ea4d13cb391f048ef": {
          "model_module": "@jupyter-widgets/base",
          "model_name": "LayoutModel",
          "model_module_version": "1.2.0",
          "state": {
            "_model_module": "@jupyter-widgets/base",
            "_model_module_version": "1.2.0",
            "_model_name": "LayoutModel",
            "_view_count": null,
            "_view_module": "@jupyter-widgets/base",
            "_view_module_version": "1.2.0",
            "_view_name": "LayoutView",
            "align_content": null,
            "align_items": null,
            "align_self": null,
            "border": null,
            "bottom": null,
            "display": null,
            "flex": null,
            "flex_flow": null,
            "grid_area": null,
            "grid_auto_columns": null,
            "grid_auto_flow": null,
            "grid_auto_rows": null,
            "grid_column": null,
            "grid_gap": null,
            "grid_row": null,
            "grid_template_areas": null,
            "grid_template_columns": null,
            "grid_template_rows": null,
            "height": null,
            "justify_content": null,
            "justify_items": null,
            "left": null,
            "margin": null,
            "max_height": null,
            "max_width": null,
            "min_height": null,
            "min_width": null,
            "object_fit": null,
            "object_position": null,
            "order": null,
            "overflow": null,
            "overflow_x": null,
            "overflow_y": null,
            "padding": null,
            "right": null,
            "top": null,
            "visibility": null,
            "width": null
          }
        },
        "b2e7ab2d24bf4f0a8c4707df039a8220": {
          "model_module": "@jupyter-widgets/controls",
          "model_name": "ProgressStyleModel",
          "model_module_version": "1.5.0",
          "state": {
            "_model_module": "@jupyter-widgets/controls",
            "_model_module_version": "1.5.0",
            "_model_name": "ProgressStyleModel",
            "_view_count": null,
            "_view_module": "@jupyter-widgets/base",
            "_view_module_version": "1.2.0",
            "_view_name": "StyleView",
            "bar_color": null,
            "description_width": ""
          }
        },
        "22682b73a5154400b4b46481147efabd": {
          "model_module": "@jupyter-widgets/base",
          "model_name": "LayoutModel",
          "model_module_version": "1.2.0",
          "state": {
            "_model_module": "@jupyter-widgets/base",
            "_model_module_version": "1.2.0",
            "_model_name": "LayoutModel",
            "_view_count": null,
            "_view_module": "@jupyter-widgets/base",
            "_view_module_version": "1.2.0",
            "_view_name": "LayoutView",
            "align_content": null,
            "align_items": null,
            "align_self": null,
            "border": null,
            "bottom": null,
            "display": null,
            "flex": null,
            "flex_flow": null,
            "grid_area": null,
            "grid_auto_columns": null,
            "grid_auto_flow": null,
            "grid_auto_rows": null,
            "grid_column": null,
            "grid_gap": null,
            "grid_row": null,
            "grid_template_areas": null,
            "grid_template_columns": null,
            "grid_template_rows": null,
            "height": null,
            "justify_content": null,
            "justify_items": null,
            "left": null,
            "margin": null,
            "max_height": null,
            "max_width": null,
            "min_height": null,
            "min_width": null,
            "object_fit": null,
            "object_position": null,
            "order": null,
            "overflow": null,
            "overflow_x": null,
            "overflow_y": null,
            "padding": null,
            "right": null,
            "top": null,
            "visibility": null,
            "width": null
          }
        },
        "a09ae6abdb694c16a7899f55fdf1b800": {
          "model_module": "@jupyter-widgets/controls",
          "model_name": "DescriptionStyleModel",
          "model_module_version": "1.5.0",
          "state": {
            "_model_module": "@jupyter-widgets/controls",
            "_model_module_version": "1.5.0",
            "_model_name": "DescriptionStyleModel",
            "_view_count": null,
            "_view_module": "@jupyter-widgets/base",
            "_view_module_version": "1.2.0",
            "_view_name": "StyleView",
            "description_width": ""
          }
        },
        "a48be90837a042a5b018eb2c2c76fd4f": {
          "model_module": "@jupyter-widgets/controls",
          "model_name": "HBoxModel",
          "model_module_version": "1.5.0",
          "state": {
            "_dom_classes": [],
            "_model_module": "@jupyter-widgets/controls",
            "_model_module_version": "1.5.0",
            "_model_name": "HBoxModel",
            "_view_count": null,
            "_view_module": "@jupyter-widgets/controls",
            "_view_module_version": "1.5.0",
            "_view_name": "HBoxView",
            "box_style": "",
            "children": [
              "IPY_MODEL_ee674376e0a04231b33930f13f0d8716",
              "IPY_MODEL_1d9bd741191e42988f0895c4adde55ad",
              "IPY_MODEL_a392e543d7e645da877413b917e87c34"
            ],
            "layout": "IPY_MODEL_990d24c1961842abbae578ab4b3975ea"
          }
        },
        "ee674376e0a04231b33930f13f0d8716": {
          "model_module": "@jupyter-widgets/controls",
          "model_name": "HTMLModel",
          "model_module_version": "1.5.0",
          "state": {
            "_dom_classes": [],
            "_model_module": "@jupyter-widgets/controls",
            "_model_module_version": "1.5.0",
            "_model_name": "HTMLModel",
            "_view_count": null,
            "_view_module": "@jupyter-widgets/controls",
            "_view_module_version": "1.5.0",
            "_view_name": "HTMLView",
            "description": "",
            "description_tooltip": null,
            "layout": "IPY_MODEL_f9c616f8ea2c454f843172e99783e3ee",
            "placeholder": "​",
            "style": "IPY_MODEL_bd95037b0ceb42cbbb855e35097e4350",
            "value": "100%"
          }
        },
        "1d9bd741191e42988f0895c4adde55ad": {
          "model_module": "@jupyter-widgets/controls",
          "model_name": "FloatProgressModel",
          "model_module_version": "1.5.0",
          "state": {
            "_dom_classes": [],
            "_model_module": "@jupyter-widgets/controls",
            "_model_module_version": "1.5.0",
            "_model_name": "FloatProgressModel",
            "_view_count": null,
            "_view_module": "@jupyter-widgets/controls",
            "_view_module_version": "1.5.0",
            "_view_name": "ProgressView",
            "bar_style": "success",
            "description": "",
            "description_tooltip": null,
            "layout": "IPY_MODEL_0abd2b0a36ac485dbbb219a80b03bdfe",
            "max": 100000,
            "min": 0,
            "orientation": "horizontal",
            "style": "IPY_MODEL_2d57e3ca6fbe4e8f963ccc79385efca0",
            "value": 100000
          }
        },
        "a392e543d7e645da877413b917e87c34": {
          "model_module": "@jupyter-widgets/controls",
          "model_name": "HTMLModel",
          "model_module_version": "1.5.0",
          "state": {
            "_dom_classes": [],
            "_model_module": "@jupyter-widgets/controls",
            "_model_module_version": "1.5.0",
            "_model_name": "HTMLModel",
            "_view_count": null,
            "_view_module": "@jupyter-widgets/controls",
            "_view_module_version": "1.5.0",
            "_view_name": "HTMLView",
            "description": "",
            "description_tooltip": null,
            "layout": "IPY_MODEL_1355bb60bb904deab775d8ea62c75810",
            "placeholder": "​",
            "style": "IPY_MODEL_1cefdedeb1f24767b9edd03c259d5d5b",
            "value": " 100000/100000 [01:03&lt;00:00, 1475.54it/s]"
          }
        },
        "990d24c1961842abbae578ab4b3975ea": {
          "model_module": "@jupyter-widgets/base",
          "model_name": "LayoutModel",
          "model_module_version": "1.2.0",
          "state": {
            "_model_module": "@jupyter-widgets/base",
            "_model_module_version": "1.2.0",
            "_model_name": "LayoutModel",
            "_view_count": null,
            "_view_module": "@jupyter-widgets/base",
            "_view_module_version": "1.2.0",
            "_view_name": "LayoutView",
            "align_content": null,
            "align_items": null,
            "align_self": null,
            "border": null,
            "bottom": null,
            "display": null,
            "flex": null,
            "flex_flow": null,
            "grid_area": null,
            "grid_auto_columns": null,
            "grid_auto_flow": null,
            "grid_auto_rows": null,
            "grid_column": null,
            "grid_gap": null,
            "grid_row": null,
            "grid_template_areas": null,
            "grid_template_columns": null,
            "grid_template_rows": null,
            "height": null,
            "justify_content": null,
            "justify_items": null,
            "left": null,
            "margin": null,
            "max_height": null,
            "max_width": null,
            "min_height": null,
            "min_width": null,
            "object_fit": null,
            "object_position": null,
            "order": null,
            "overflow": null,
            "overflow_x": null,
            "overflow_y": null,
            "padding": null,
            "right": null,
            "top": null,
            "visibility": null,
            "width": null
          }
        },
        "f9c616f8ea2c454f843172e99783e3ee": {
          "model_module": "@jupyter-widgets/base",
          "model_name": "LayoutModel",
          "model_module_version": "1.2.0",
          "state": {
            "_model_module": "@jupyter-widgets/base",
            "_model_module_version": "1.2.0",
            "_model_name": "LayoutModel",
            "_view_count": null,
            "_view_module": "@jupyter-widgets/base",
            "_view_module_version": "1.2.0",
            "_view_name": "LayoutView",
            "align_content": null,
            "align_items": null,
            "align_self": null,
            "border": null,
            "bottom": null,
            "display": null,
            "flex": null,
            "flex_flow": null,
            "grid_area": null,
            "grid_auto_columns": null,
            "grid_auto_flow": null,
            "grid_auto_rows": null,
            "grid_column": null,
            "grid_gap": null,
            "grid_row": null,
            "grid_template_areas": null,
            "grid_template_columns": null,
            "grid_template_rows": null,
            "height": null,
            "justify_content": null,
            "justify_items": null,
            "left": null,
            "margin": null,
            "max_height": null,
            "max_width": null,
            "min_height": null,
            "min_width": null,
            "object_fit": null,
            "object_position": null,
            "order": null,
            "overflow": null,
            "overflow_x": null,
            "overflow_y": null,
            "padding": null,
            "right": null,
            "top": null,
            "visibility": null,
            "width": null
          }
        },
        "bd95037b0ceb42cbbb855e35097e4350": {
          "model_module": "@jupyter-widgets/controls",
          "model_name": "DescriptionStyleModel",
          "model_module_version": "1.5.0",
          "state": {
            "_model_module": "@jupyter-widgets/controls",
            "_model_module_version": "1.5.0",
            "_model_name": "DescriptionStyleModel",
            "_view_count": null,
            "_view_module": "@jupyter-widgets/base",
            "_view_module_version": "1.2.0",
            "_view_name": "StyleView",
            "description_width": ""
          }
        },
        "0abd2b0a36ac485dbbb219a80b03bdfe": {
          "model_module": "@jupyter-widgets/base",
          "model_name": "LayoutModel",
          "model_module_version": "1.2.0",
          "state": {
            "_model_module": "@jupyter-widgets/base",
            "_model_module_version": "1.2.0",
            "_model_name": "LayoutModel",
            "_view_count": null,
            "_view_module": "@jupyter-widgets/base",
            "_view_module_version": "1.2.0",
            "_view_name": "LayoutView",
            "align_content": null,
            "align_items": null,
            "align_self": null,
            "border": null,
            "bottom": null,
            "display": null,
            "flex": null,
            "flex_flow": null,
            "grid_area": null,
            "grid_auto_columns": null,
            "grid_auto_flow": null,
            "grid_auto_rows": null,
            "grid_column": null,
            "grid_gap": null,
            "grid_row": null,
            "grid_template_areas": null,
            "grid_template_columns": null,
            "grid_template_rows": null,
            "height": null,
            "justify_content": null,
            "justify_items": null,
            "left": null,
            "margin": null,
            "max_height": null,
            "max_width": null,
            "min_height": null,
            "min_width": null,
            "object_fit": null,
            "object_position": null,
            "order": null,
            "overflow": null,
            "overflow_x": null,
            "overflow_y": null,
            "padding": null,
            "right": null,
            "top": null,
            "visibility": null,
            "width": null
          }
        },
        "2d57e3ca6fbe4e8f963ccc79385efca0": {
          "model_module": "@jupyter-widgets/controls",
          "model_name": "ProgressStyleModel",
          "model_module_version": "1.5.0",
          "state": {
            "_model_module": "@jupyter-widgets/controls",
            "_model_module_version": "1.5.0",
            "_model_name": "ProgressStyleModel",
            "_view_count": null,
            "_view_module": "@jupyter-widgets/base",
            "_view_module_version": "1.2.0",
            "_view_name": "StyleView",
            "bar_color": null,
            "description_width": ""
          }
        },
        "1355bb60bb904deab775d8ea62c75810": {
          "model_module": "@jupyter-widgets/base",
          "model_name": "LayoutModel",
          "model_module_version": "1.2.0",
          "state": {
            "_model_module": "@jupyter-widgets/base",
            "_model_module_version": "1.2.0",
            "_model_name": "LayoutModel",
            "_view_count": null,
            "_view_module": "@jupyter-widgets/base",
            "_view_module_version": "1.2.0",
            "_view_name": "LayoutView",
            "align_content": null,
            "align_items": null,
            "align_self": null,
            "border": null,
            "bottom": null,
            "display": null,
            "flex": null,
            "flex_flow": null,
            "grid_area": null,
            "grid_auto_columns": null,
            "grid_auto_flow": null,
            "grid_auto_rows": null,
            "grid_column": null,
            "grid_gap": null,
            "grid_row": null,
            "grid_template_areas": null,
            "grid_template_columns": null,
            "grid_template_rows": null,
            "height": null,
            "justify_content": null,
            "justify_items": null,
            "left": null,
            "margin": null,
            "max_height": null,
            "max_width": null,
            "min_height": null,
            "min_width": null,
            "object_fit": null,
            "object_position": null,
            "order": null,
            "overflow": null,
            "overflow_x": null,
            "overflow_y": null,
            "padding": null,
            "right": null,
            "top": null,
            "visibility": null,
            "width": null
          }
        },
        "1cefdedeb1f24767b9edd03c259d5d5b": {
          "model_module": "@jupyter-widgets/controls",
          "model_name": "DescriptionStyleModel",
          "model_module_version": "1.5.0",
          "state": {
            "_model_module": "@jupyter-widgets/controls",
            "_model_module_version": "1.5.0",
            "_model_name": "DescriptionStyleModel",
            "_view_count": null,
            "_view_module": "@jupyter-widgets/base",
            "_view_module_version": "1.2.0",
            "_view_name": "StyleView",
            "description_width": ""
          }
        }
      }
    }
  },
  "nbformat": 4,
  "nbformat_minor": 0
}